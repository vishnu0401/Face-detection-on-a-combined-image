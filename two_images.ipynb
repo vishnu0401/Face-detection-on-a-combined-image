{
 "cells": [
  {
   "cell_type": "code",
   "execution_count": 24,
   "metadata": {},
   "outputs": [],
   "source": [
    "import cv2\n",
    "import numpy as np\n",
    "import imutils"
   ]
  },
  {
   "cell_type": "code",
   "execution_count": 25,
   "metadata": {},
   "outputs": [],
   "source": [
    "#reading images\n",
    "image1 = cv2.imread(\"people_1.jpg\")\n",
    "image2 = cv2.imread(\"people_2.jpg\")\n",
    "\n",
    "#resizing images\n",
    "image2 = cv2.resize(image2, (450,221))\n",
    "\n",
    "#merge two images\n",
    "image_merge = np.concatenate((image1, image2), axis=1)\n",
    "# cv2.imshow(\"people\",image_merge)"
   ]
  },
  {
   "cell_type": "code",
   "execution_count": 26,
   "metadata": {},
   "outputs": [
    {
     "name": "stdout",
     "output_type": "stream",
     "text": [
      "Found 10 People!\n"
     ]
    }
   ],
   "source": [
    "# into gray scale\n",
    "gray = cv2.cvtColor(image_merge,cv2.COLOR_BGR2GRAY)\n",
    "\n",
    "# Detect faces\n",
    "faceCascade = cv2.CascadeClassifier(cv2.data.haarcascades + \"haarcascade_frontalface_default.xml\")\n",
    "faces = faceCascade.detectMultiScale(gray,scaleFactor=1.3,minNeighbors=3,minSize=(30, 30))\n",
    "\n",
    "# Draw rectangle around the faces\n",
    "for (x, y, w, h) in faces:\n",
    "    cv2.rectangle(image_merge, (x, y), (x + w, y + h), (255, 0, 0), 2)\n",
    "\n",
    "# Display the output\n",
    "cv2.imwrite(\"people.jpg\",image_merge) \n",
    "print(\"Found {0} People!\".format(len(faces)))"
   ]
  },
  {
   "cell_type": "code",
   "execution_count": null,
   "metadata": {},
   "outputs": [],
   "source": []
  }
 ],
 "metadata": {
  "kernelspec": {
   "display_name": "Python 3",
   "language": "python",
   "name": "python3"
  },
  "language_info": {
   "codemirror_mode": {
    "name": "ipython",
    "version": 3
   },
   "file_extension": ".py",
   "mimetype": "text/x-python",
   "name": "python",
   "nbconvert_exporter": "python",
   "pygments_lexer": "ipython3",
   "version": "3.7.4"
  }
 },
 "nbformat": 4,
 "nbformat_minor": 2
}
